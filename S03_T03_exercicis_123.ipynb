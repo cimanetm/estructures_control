{
 "cells": [
  {
   "cell_type": "code",
   "execution_count": 1,
   "id": "d28fc6fd",
   "metadata": {},
   "outputs": [
    {
     "name": "stdout",
     "output_type": "stream",
     "text": [
      "Enter nota: 5\n",
      "Aprovat\n"
     ]
    }
   ],
   "source": [
    "#EXERCICI 1\n",
    "#L'exercici consisteix a crear un programa que et classifiqui una variable numèrica en funció de l’escala \n",
    "#Suspès/Aprovat/Notable/Excel·lent. \n",
    "nota = input('Enter nota: ')\n",
    "if int(nota) >= 9:\n",
    "    resultat=\"Excel·lent\"\n",
    "elif int(nota) >= 7:\n",
    "    resultat=\"Notable\"\n",
    "elif int(nota) >= 5:\n",
    "    resultat=\"Aprovat\"\n",
    "else:\n",
    "    resultat=\"Suspès\"\n",
    "print(resultat)\n",
    "    "
   ]
  },
  {
   "cell_type": "code",
   "execution_count": 2,
   "id": "dc1e9914",
   "metadata": {},
   "outputs": [
    {
     "name": "stdout",
     "output_type": "stream",
     "text": [
      "Enter num1: 4\n",
      "Enter num2: 5\n",
      "el segon és més gran\n"
     ]
    }
   ],
   "source": [
    "#EXERCICI 2\n",
    "#crea un programa que et pregunti dos números. T’ha de mostrar un missatge dient\n",
    "# si el primer és més gran, el segon és més gran o són iguals.\n",
    "num1, num2 = input('Enter num1: '), input('Enter num2: ')\n",
    "if int(num1) == int(num2):\n",
    "    resultat=\"són iguals\"\n",
    "elif int(num1) > int(num2):\n",
    "    resultat=\"el primer és més gran\"\n",
    "else:\n",
    "    resultat=\"el segon és més gran\"\n",
    "print(resultat)"
   ]
  },
  {
   "cell_type": "code",
   "execution_count": 3,
   "id": "ae398b9a",
   "metadata": {},
   "outputs": [
    {
     "name": "stdout",
     "output_type": "stream",
     "text": [
      "Enter nom: opo\n",
      "Enter num: 5\n",
      "opoopoopoopoopo\n"
     ]
    }
   ],
   "source": [
    "#EXERCICI 3\n",
    "#Crea un programa que et pregunti el teu nom, i et demani un número. \n",
    "#Si el número és 0, hauria de mostrar un missatge d’error. \n",
    "#En cas contrari, hauria de mostrar el nom repetit tants cops com indiqui el número.\n",
    "nom, num = input('Enter nom: '), input('Enter num: ')\n",
    "if int(num) == 0:\n",
    "    resultat=\"ERROR 0 no es vàlid\"\n",
    "else:\n",
    "    resultat=nom*int(num)\n",
    "print(resultat)"
   ]
  },
  {
   "cell_type": "code",
   "execution_count": null,
   "id": "77eb4269",
   "metadata": {},
   "outputs": [],
   "source": []
  }
 ],
 "metadata": {
  "kernelspec": {
   "display_name": "Python 3",
   "language": "python",
   "name": "python3"
  },
  "language_info": {
   "codemirror_mode": {
    "name": "ipython",
    "version": 3
   },
   "file_extension": ".py",
   "mimetype": "text/x-python",
   "name": "python",
   "nbconvert_exporter": "python",
   "pygments_lexer": "ipython3",
   "version": "3.8.8"
  }
 },
 "nbformat": 4,
 "nbformat_minor": 5
}
