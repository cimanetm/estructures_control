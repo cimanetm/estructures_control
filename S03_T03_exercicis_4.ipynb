{
 "cells": [
  {
   "cell_type": "code",
   "execution_count": 2,
   "id": "fe3404d9",
   "metadata": {},
   "outputs": [
    {
     "name": "stdout",
     "output_type": "stream",
     "text": [
      "Enter llista: 1 21 1 21 1\n",
      "la llista té  5  elements\n"
     ]
    }
   ],
   "source": [
    "#EXERCICI 4\n",
    "#Crea un programa que donada una llista qualsevol, et digui si es simètrica o no.\n",
    "#Si ho és, que et digui quants elements té.\n",
    "entrada = input('Enter llista: ')\n",
    "llista = entrada.split()\n",
    "n = len(llista)\n",
    "i = 0\n",
    "if n > 0:\n",
    "    esSimetric = True\n",
    "    while i <= (n/2):\n",
    "        if llista[i]!=llista[n-1-i]:\n",
    "            esSimetric = False\n",
    "            break        \n",
    "        i += 1\n",
    "    if esSimetric:\n",
    "        print (\"la llista té \", n , \" elements\")"
   ]
  },
  {
   "cell_type": "code",
   "execution_count": null,
   "id": "66dad2ff",
   "metadata": {},
   "outputs": [],
   "source": []
  }
 ],
 "metadata": {
  "kernelspec": {
   "display_name": "Python 3",
   "language": "python",
   "name": "python3"
  },
  "language_info": {
   "codemirror_mode": {
    "name": "ipython",
    "version": 3
   },
   "file_extension": ".py",
   "mimetype": "text/x-python",
   "name": "python",
   "nbconvert_exporter": "python",
   "pygments_lexer": "ipython3",
   "version": "3.8.8"
  }
 },
 "nbformat": 4,
 "nbformat_minor": 5
}
