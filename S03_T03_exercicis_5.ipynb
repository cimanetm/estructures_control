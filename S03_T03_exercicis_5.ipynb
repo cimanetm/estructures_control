{
 "cells": [
  {
   "cell_type": "code",
   "execution_count": 5,
   "id": "27007adf",
   "metadata": {},
   "outputs": [
    {
     "name": "stdout",
     "output_type": "stream",
     "text": [
      "Enter llista: 0 0 2 0 4\n",
      "la llista té  3  coincidències\n"
     ]
    }
   ],
   "source": [
    "#EXERCICI 5\n",
    "#Crea un programa que donada una llista, et digui quants números coincideixen amb la seva posició. \n",
    "#Per exemple [3,4,2,0,2,3,6] el 2 i el 6 coincideixen.\n",
    "entrada = input('Enter llista: ')\n",
    "llista = entrada.split()\n",
    "n = len(llista)\n",
    "numcoincidencdies = 0\n",
    "i = 0\n",
    "while i <= n-1:\n",
    "    if int(llista[i])==i:\n",
    "        numcoincidencdies += 1     \n",
    "    i += 1\n",
    "print (\"la llista té \", numcoincidencdies , \" coincidències\")\n"
   ]
  },
  {
   "cell_type": "code",
   "execution_count": null,
   "id": "b2c30cb3",
   "metadata": {},
   "outputs": [],
   "source": []
  }
 ],
 "metadata": {
  "kernelspec": {
   "display_name": "Python 3",
   "language": "python",
   "name": "python3"
  },
  "language_info": {
   "codemirror_mode": {
    "name": "ipython",
    "version": 3
   },
   "file_extension": ".py",
   "mimetype": "text/x-python",
   "name": "python",
   "nbconvert_exporter": "python",
   "pygments_lexer": "ipython3",
   "version": "3.8.8"
  }
 },
 "nbformat": 4,
 "nbformat_minor": 5
}
